{
 "cells": [
  {
   "cell_type": "code",
   "execution_count": 1,
   "id": "85082789",
   "metadata": {},
   "outputs": [
    {
     "data": {
      "text/plain": [
       "['0__Anger',\n",
       " '1__Contempt',\n",
       " '2__Disgust',\n",
       " '3__Fear',\n",
       " '4__Happy',\n",
       " '5__Neutral',\n",
       " '6__Sad',\n",
       " '7__Surprise']"
      ]
     },
     "execution_count": 1,
     "metadata": {},
     "output_type": "execute_result"
    }
   ],
   "source": [
    "import torch\n",
    "from torch.utils.data import DataLoader\n",
    "import torch.nn as nn\n",
    "import torch.optim as optim\n",
    "import warnings\n",
    "warnings.filterwarnings(\"ignore\", category=UserWarning)  # Ignore UserWarnings for cleaner output\n",
    "from torchvision import datasets, transforms, models\n",
    "\n",
    "# Define transforms for your dataset\n",
    "transform = transforms.Compose([\n",
    "    transforms.Resize((224, 224)),\n",
    "    transforms.ToTensor(),\n",
    "    transforms.Normalize(mean=[0.485, 0.456, 0.406],\n",
    "                            std=[0.229, 0.224, 0.225])test\n",
    "])\n",
    "\n",
    "# Load local custom dataset (assumes folder structure: root/class_x/xxx.png)\n",
    "train_data = datasets.ImageFolder(root='data/train', transform=transform)\n",
    "train_loader = DataLoader(train_data, batch_size=32, shuffle=True)\n",
    "train_data.classes"
   ]
  },
  {
   "cell_type": "code",
   "execution_count": 2,
   "id": "1c1ec718",
   "metadata": {},
   "outputs": [
    {
     "name": "stdout",
     "output_type": "stream",
     "text": [
      "Downloading: \"https://download.pytorch.org/models/resnet18-f37072fd.pth\" to /home/ilikesunday/.cache/torch/hub/checkpoints/resnet18-f37072fd.pth\n"
     ]
    },
    {
     "name": "stderr",
     "output_type": "stream",
     "text": [
      "100.0%\n"
     ]
    }
   ],
   "source": [
    "\n",
    "# Initialize the model, loss function, and optimizer\n",
    "model = nn.Sequential(\n",
    "    models.resnet18(pretrained=True),\n",
    "    nn.Linear(1000, 512),\n",
    "    nn.ReLU(),\n",
    "    nn.Linear(512, 8),\n",
    "    nn.LogSoftmax(dim=1)\n",
    ")\n",
    "device = torch.device(\"cuda\" if torch.cuda.is_available() else \"cpu\")\n",
    "model = model.to(device)\n",
    "criterion = nn.CrossEntropyLoss()\n",
    "optimizer = optim.AdamW(model.parameters(), lr=0.001)\n"
   ]
  },
  {
   "cell_type": "code",
   "execution_count": 3,
   "id": "df9038a5",
   "metadata": {},
   "outputs": [
    {
     "name": "stdout",
     "output_type": "stream",
     "text": [
      "Epoch [1/20], Loss: 1.3754\n",
      "Epoch [2/20], Loss: 1.0899\n",
      "Epoch [3/20], Loss: 0.9333\n",
      "Epoch [4/20], Loss: 0.8027\n",
      "Epoch [5/20], Loss: 0.6876\n",
      "Epoch [6/20], Loss: 0.5636\n",
      "Epoch [7/20], Loss: 0.4464\n",
      "Epoch [8/20], Loss: 0.3366\n",
      "Epoch [9/20], Loss: 0.2787\n",
      "Epoch [10/20], Loss: 0.2040\n",
      "Epoch [11/20], Loss: 0.1842\n",
      "Epoch [12/20], Loss: 0.1479\n",
      "Epoch [13/20], Loss: 0.1574\n",
      "Epoch [14/20], Loss: 0.1262\n",
      "Epoch [15/20], Loss: 0.1070\n",
      "Epoch [16/20], Loss: 0.1119\n",
      "Epoch [17/20], Loss: 0.1338\n",
      "Epoch [18/20], Loss: 0.1037\n",
      "Epoch [19/20], Loss: 0.0946\n",
      "Epoch [20/20], Loss: 0.0870\n",
      "Training completed or interrupted.\n"
     ]
    }
   ],
   "source": [
    "epochs = 20\n",
    "try:\n",
    "\n",
    "# Training loop\n",
    "    for epoch in range(epochs):\n",
    "        model.train()\n",
    "        running_loss = 0.0\n",
    "        for images, labels in train_loader:\n",
    "            images, labels = images.to(device),labels.to(device)\n",
    "            optimizer.zero_grad()\n",
    "            outputs = model(images)\n",
    "            loss = criterion(outputs, labels)\n",
    "            loss.backward()\n",
    "            optimizer.step()\n",
    "            running_loss += loss.item()\n",
    "        print(f'Epoch [{epoch+1}/{epochs}], Loss: {running_loss/len(train_loader):.4f}')\n",
    "        torch.save(model.state_dict(), 'face_expression_model.pth')\n",
    "    \n",
    "except Exception as e:\n",
    "    print(f\"An error occurred during training: {e}\")\n",
    "finally:\n",
    "    with open('Emotion_classes.txt', 'w') as f:\n",
    "        for cls in train_data.classes:\n",
    "            f.write(f\"{cls}\\n\")\n",
    "    print(\"Training completed or interrupted.\")\n",
    "    if torch.cuda.is_available():\n",
    "        torch.cuda.empty_cache()"
   ]
  },
  {
   "cell_type": "code",
   "execution_count": 7,
   "id": "e8253b8a",
   "metadata": {},
   "outputs": [
    {
     "name": "stdout",
     "output_type": "stream",
     "text": [
      "Test set accuracy: 97.26%\n",
      "97.26\n",
      "Validation set accuracy: 97.26%\n",
      "97.26\n"
     ]
    }
   ],
   "source": [
    "\n",
    "test_data = datasets.ImageFolder(root='data/test', transform=transform)\n",
    "test_loader = DataLoader(train_data, batch_size=32, shuffle=False)\n",
    "val_dataset = datasets.ImageFolder(root='data/valid', transform=transform)\n",
    "val_loader = DataLoader(train_data, batch_size=32, shuffle=False)\n",
    "def model_accuracy(model:nn.Sequential, data_loader:DataLoader,data_type:str)->int:\n",
    "    model.eval()\n",
    "    correct = 0\n",
    "    total = 0\n",
    "    with torch.no_grad():\n",
    "        for images, labels in data_loader:\n",
    "            images, labels = images.to(device), labels.to(device)\n",
    "            outputs = model(images)\n",
    "            _, predicted = torch.max(outputs.data, 1)\n",
    "            total += labels.size(0)\n",
    "            correct += (predicted == labels).sum().item()\n",
    "\n",
    "    accuracy = 100 * correct / total\n",
    "    print(f'{data_type} set accuracy: {accuracy:.2f}%')\n",
    "    return round(accuracy,2)\n",
    "\n",
    "\n",
    "print(model_accuracy(model, test_loader, data_type=\"Test\"))\n",
    "print(model_accuracy(model, val_loader, data_type=\"Validation\"))\n"
   ]
  },
  {
   "cell_type": "code",
   "execution_count": 8,
   "id": "2194f8dc",
   "metadata": {},
   "outputs": [
    {
     "name": "stdout",
     "output_type": "stream",
     "text": [
      "Saved 8 class labels to 'Emotions.pkl'\n"
     ]
    }
   ],
   "source": [
    "# Save the model\n",
    "torch.save(model.state_dict(), 'face_expression_model.pth')\n",
    "# Save the class labels\n",
    "import pickle\n",
    "with open(\"Emotions.pkl\", 'wb') as f:\n",
    "    pickle.dump(train_data.classes, f)\n",
    "print(f\"Saved {len(train_data.classes)} class labels to 'Emotions.pkl'\")"
   ]
  }
 ],
 "metadata": {
  "kernelspec": {
   "display_name": "env",
   "language": "python",
   "name": "python3"
  },
  "language_info": {
   "codemirror_mode": {
    "name": "ipython",
    "version": 3
   },
   "file_extension": ".py",
   "mimetype": "text/x-python",
   "name": "python",
   "nbconvert_exporter": "python",
   "pygments_lexer": "ipython3",
   "version": "3.13.3"
  }
 },
 "nbformat": 4,
 "nbformat_minor": 5
}
